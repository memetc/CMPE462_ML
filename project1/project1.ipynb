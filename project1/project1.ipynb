{
 "cells": [
  {
   "cell_type": "markdown",
   "metadata": {},
   "source": [
    "<h1><center>CMPE 462 - Project 1<br>Binary Classification with Logistic Regression<br>Due: April 23, 2020, 23:59</center></h1>"
   ]
  },
  {
   "cell_type": "markdown",
   "metadata": {},
   "source": [
    "* **Student ID1:2015400249**\n",
    "* **Student ID2:2016400216**\n",
    "* **Student ID3:2014400258**"
   ]
  },
  {
   "cell_type": "markdown",
   "metadata": {},
   "source": [
    "# Overview\n",
    "\n",
    "In this project, you are going to implement logistic regression from scratch. You are provided\n",
    "a subset of the famous handwritten digit dataset called MNIST. In the subset, you will find images of digit 1 and 5. Therefore, you will be solving a binary classification problem. The project includes feature extraction, model training, and evaluation steps.\n",
    "\n",
    "First, you will load and visualize the data portion we have provided to you and then extract two different set of features to build a classifier on. When you extracted the desired features, you will run your logistic regression implementation with gradient descent on the representations to classify digits into 1 and 5. You will experiment with different learning rates  and regularization parameter ($\\lambda$) and find the optimal $\\lambda$ with 5-fold cross validation. Finally, you will evaluate the implemented models, decide which is the best performing one and visualize a decision boundary.\n",
    "\n",
    "Follow the steps on this notebook that would guide you through the solution step-by-step. Make sure that the notebook reports your work properly and add comments and opinions when necessary."
   ]
  },
  {
   "cell_type": "markdown",
   "metadata": {},
   "source": [
    "**IMPORTANT NOTE:** You are allowed to use third-party libraries such as `numpy` and `matplotlib` to help you implement necessary procedures. However, you should not import any function that accomplishes the task itself. For instance, you can use `numpy` arrays for matrix operations, but you cannot use `scikit-learn` to implement cross validation."
   ]
  },
  {
   "cell_type": "markdown",
   "metadata": {},
   "source": [
    "## Task 1: Feature Extraction (35 Pts)"
   ]
  },
  {
   "cell_type": "markdown",
   "metadata": {},
   "source": [
    "Load the training/test data and labels as numpy arrays (Hint:`np.load`). Train and test data are 1561x256 and 424x256 dimensional matrices, respectively. Each row in the\n",
    "aforementioned matrices corresponds to an image of a digit. The 256 pixels correspond to a 16x16 image. Label 1 is assigned to digit 1 and label -1 is assigned to digit 5."
   ]
  },
  {
   "cell_type": "code",
   "execution_count": 28,
   "metadata": {},
   "outputs": [
    {
     "data": {
      "text/plain": [
       "array([[-1., -1., -1., ..., -1., -1., -1.],\n",
       "       [-1., -1., -1., ..., -1., -1., -1.],\n",
       "       [-1., -1., -1., ..., -1., -1., -1.],\n",
       "       ...,\n",
       "       [-1., -1., -1., ..., -1., -1., -1.],\n",
       "       [-1., -1., -1., ..., -1., -1., -1.],\n",
       "       [-1., -1., -1., ..., -1., -1., -1.]])"
      ]
     },
     "execution_count": 28,
     "metadata": {},
     "output_type": "execute_result"
    }
   ],
   "source": [
    "import numpy as np\n",
    "testData = np.load('test_data.npy')\n",
    "testLabel = np.load('test_labels.npy')\n",
    "trainData = np.load('train_data.npy')\n",
    "trainLabel = np.load('train_labels.npy')\n",
    "\n",
    "\n",
    "testData\n",
    "trainData\n"
   ]
  },
  {
   "cell_type": "markdown",
   "metadata": {},
   "source": [
    "**(5 points)** Display two of the digit images, one for digit 1 and one for digit 5. You can use `imshow` function of `matplotlib` library with a suitable colormap. You will first need to reshape 256 pixels to a 16x16 matrix. "
   ]
  },
  {
   "cell_type": "code",
   "execution_count": 29,
   "metadata": {},
   "outputs": [
    {
     "data": {
      "text/plain": [
       "<matplotlib.image.AxesImage at 0x1dab97dea08>"
      ]
     },
     "execution_count": 29,
     "metadata": {},
     "output_type": "execute_result"
    },
    {
     "data": {
      "image/png": "[encoded data removed]",
      "text/plain": [
       "<Figure size 720x480 with 2 Axes>"
      ]
     },
     "metadata": {
      "needs_background": "light"
     },
     "output_type": "display_data"
    }
   ],
   "source": [
    "import matplotlib.pyplot as plt\n",
    "\n",
    "plt.rcParams['figure.dpi'] = 120\n",
    "\n",
    "b1=np.reshape(trainData[1,], (16, 16))\n",
    "b2=np.reshape(trainData[1200,], (16, 16))\n",
    "\n",
    "plt.subplot(2, 1, 1)\n",
    "plt.imshow(b1)\n",
    "plt.subplot(2, 1, 2)\n",
    "plt.imshow(b2)\n",
    "\n",
    "\n"
   ]
  },
  {
   "cell_type": "markdown",
   "metadata": {},
   "source": [
    "**(10 points) Implementing Representation 1:** Extract the **symmetry** and **average intensity** features discussed in the class (see logistic regression lecture notes). To compute the intensity features, compute the average pixel value of the image, and for the symmetry feature, compute the negative of the norm of the difference between the image and its y-axis symmetrical. Search numpy's documentation to find the suitable function at each step. You should extract these two features for each image in the training and test sets. As a result, you should obtain a training data matrix of size 1561x2 and test data matrix of size 424x2.\n",
    "\n",
    "Throughout the notebook, we will refer the representation with these two features as **Representation 1** "
   ]
  },
  {
   "cell_type": "code",
   "execution_count": 3,
   "metadata": {},
   "outputs": [
    {
     "name": "stdout",
     "output_type": "stream",
     "text": [
      "max :  0.21327734375\n",
      "min :  -0.867984375\n",
      "max :  0.0560390625\n",
      "min :  -0.87966015625\n",
      "max :  -1.163294459713447\n",
      "min :  -18.89358123808189\n",
      "max :  -0.7602999408128346\n",
      "min :  -19.40688424245376\n"
     ]
    }
   ],
   "source": [
    "avgIntensityTest = []\n",
    "symmetryTest = []\n",
    "squaredTest = []\n",
    "flippedTest = []\n",
    "\n",
    "avgIntensityTrain = []\n",
    "symmetryTrain = []\n",
    "squaredTrain = []\n",
    "flippedTrain = []\n",
    "\n",
    "def feature_normalize(features):\n",
    "    max_elm = max(features)\n",
    "    min_elm = min(features)\n",
    "    print(\"max : \", max_elm)\n",
    "    print(\"min : \", min_elm)\n",
    "    for i in range(len(features)):\n",
    "        features[i] = (features[i] - min_elm) / (max_elm - min_elm)\n",
    "    return features\n",
    "\n",
    "for i in  testData:\n",
    "    avgIntensityTest.append(np.average(i))\n",
    "    squaredTest.append(np.reshape(i, (16, 16)))\n",
    "    flippedTest.append(np.fliplr(np.reshape(i, (16, 16))))\n",
    "    \n",
    "for i in  trainData:\n",
    "    avgIntensityTrain.append(np.average(i))\n",
    "    squaredTrain.append(np.reshape(i, (16, 16)))\n",
    "    flippedTrain.append(np.fliplr(np.reshape(i, (16, 16))))\n",
    "    \n",
    "#print(avgIntensityTrain)\n",
    "#squared\n",
    "\n",
    "for i in  range(len(squaredTest)):\n",
    "    symmetryTest.append(-1*np.linalg.norm(squaredTest[i]-flippedTest[i]))\n",
    "\n",
    "    \n",
    "for i in  range(len(squaredTrain)):\n",
    "    symmetryTrain.append(-1*np.linalg.norm(squaredTrain[i]-flippedTrain[i]))\n",
    "    \n",
    "#symmetryTrain\n",
    "\n",
    "avgIntensityTest = feature_normalize(avgIntensityTest)\n",
    "avgIntensityTrain = feature_normalize(avgIntensityTrain)\n",
    "symmetryTest = feature_normalize(symmetryTest)\n",
    "symmetryTrain = feature_normalize(symmetryTrain)\n",
    " "
   ]
  },
  {
   "cell_type": "markdown",
   "metadata": {},
   "source": [
    "**(5 points)** Provide two scatter plots, one for training and one for test data. The plots should contain the average intensity values in the x-axis and symmetry values in the\n",
    "y-axis. Denote the data points of label 1 with blue marker shaped <font color='blue'>o</font> and the data points of label -1 with a red marker shaped <font color='red'>x</font>. (Hint: check out `plt.scatter` and its `marker` and `color` parameters). Explicitly state the axis labels and figure title for both plots (Hint: `plt.xlabel`, `plt.ylabel`, `plt.title`). "
   ]
  },
  {
   "cell_type": "code",
   "execution_count": 4,
   "metadata": {
    "scrolled": true
   },
   "outputs": [
    {
     "data": {
      "image/png": "[encoded data removed]",
      "text/plain": [
       "<Figure size 432x288 with 2 Axes>"
      ]
     },
     "metadata": {
      "needs_background": "light"
     },
     "output_type": "display_data"
    }
   ],
   "source": [
    "markers = {1 : 'o', -1 : 'x'}\n",
    "colors = {1 : 'blue', -1 : 'red'}\n",
    "\n",
    "plt.subplot(2, 1, 1)\n",
    "for i in range(len(testLabel)):\n",
    "    plt.plot(avgIntensityTest[i], symmetryTest[i], marker=markers[testLabel[i]], color=colors[testLabel[i]], markersize = 3)\n",
    "    \n",
    "plt.subplot(2, 1, 2)\n",
    "for i in range(len(trainLabel)):\n",
    "    plt.plot(avgIntensityTrain[i], symmetryTrain[i], marker=markers[trainLabel[i]], color=colors[trainLabel[i]], markersize = 3)\n"
   ]
  },
  {
   "cell_type": "markdown",
   "metadata": {},
   "source": [
    "**(15 points) Implementing Representation 2:** Come up with an alternative feature extraction approach. The features can again be 2-D, or higher dimensional. If you use any external resource, please cite the references. Explain the feature extraction procedure clearly in your report; if it is an algorithm, provide the algorithm; if it is a function, provide the mathematical expressions. \n",
    "\n",
    "If your proposed features are 2-D or 3-D, provide the scatter plots similar to the previous step.\n",
    "\n",
    "We will refer this representation proposed by you as **Representation 2**."
   ]
  },
  {
   "cell_type": "code",
   "execution_count": 5,
   "metadata": {},
   "outputs": [
    {
     "name": "stdout",
     "output_type": "stream",
     "text": [
      "max :  171.68081296484377\n",
      "min :  1.60639337109375\n",
      "max :  227\n",
      "min :  61\n",
      "max :  158.35827510937503\n",
      "min :  3.0189254960937513\n",
      "max :  224\n",
      "min :  58\n"
     ]
    },
    {
     "data": {
      "image/png": "[encoded data removed]",
      "text/plain": [
       "<Figure size 432x288 with 2 Axes>"
      ]
     },
     "metadata": {
      "needs_background": "light"
     },
     "output_type": "display_data"
    }
   ],
   "source": [
    "    \n",
    "trainMYT = []\n",
    "for k in trainData:\n",
    "    b3=np.reshape(k, (16, 16))\n",
    "    mean = [0]* 16\n",
    "    for i in b3:\n",
    "        mean = i + mean\n",
    "\n",
    "    b3=np.var(np.reshape(mean, (1, 16)))\n",
    "    trainMYT.append(b3)\n",
    "\n",
    "trainMYT = feature_normalize(trainMYT)\n",
    "\n",
    "\n",
    "trainTYM = []\n",
    "for k in trainData:\n",
    "    counter = 0\n",
    "    for i in k:\n",
    "        if(i == -1):\n",
    "            counter = counter + 1\n",
    "            \n",
    "    trainTYM.append(counter) \n",
    "\n",
    "trainTYM = feature_normalize(trainTYM)\n",
    "\n",
    "    \n",
    "testMYT = []\n",
    "for k in testData:\n",
    "    b3=np.reshape(k, (16, 16))\n",
    "    mean = [0]* 16\n",
    "    for i in b3:\n",
    "        mean = i + mean\n",
    "        \n",
    "    b3=np.var(np.reshape(mean, (1, 16)))\n",
    "    testMYT.append(b3)\n",
    "\n",
    "testMYT = feature_normalize(testMYT)\n",
    "    \n",
    "testTYM = []\n",
    "for k in testData:\n",
    "    counter = 0\n",
    "    for i in k:\n",
    "        if(i == -1):\n",
    "            counter = counter + 1\n",
    "            \n",
    "    testTYM.append(counter) \n",
    "        \n",
    "testTYM = feature_normalize(testTYM)\n",
    "        \n",
    "markers = {1 : 'o', -1 : 'x'}\n",
    "colors = {1 : 'blue', -1 : 'red'}\n",
    "\n",
    "plt.subplot(2, 1, 1)\n",
    "for i in range(len(testLabel)):\n",
    "    plt.plot(testMYT[i], testTYM[i], marker=markers[testLabel[i]], color=colors[testLabel[i]], markersize = 3)\n",
    "    \n",
    "plt.subplot(2, 1, 2)\n",
    "for i in range(len(trainLabel)):\n",
    "    plt.plot(trainMYT[i], trainTYM[i], marker=markers[trainLabel[i]], color=colors[trainLabel[i]], markersize = 3)\n",
    "\n"
   ]
  },
  {
   "cell_type": "markdown",
   "metadata": {},
   "source": [
    "## Task 2: Logistic Regression (40 Pts)"
   ]
  },
  {
   "cell_type": "markdown",
   "metadata": {},
   "source": [
    "**(20 points)** Implement the logistic regression classifier from scratch with gradient descent and train it using Representation 1 and Representation 2 as inputs. Concatenate\n",
    "1 to your features for the intercept term, such that one data point will look like for 2-D features [1,$x_1$,$x_2$], and the model vector will be [$w_0, w_1, w_2$], where $w_0$ is the intercept parameter. \n",
    "You can refer to lecture notes (Logistic regression slides 29-30) to review the gradient descent learning algorithm and the logistic loss. To implement the gradient of the logistic loss with respect to $w$, first derive its expression by hand. Please include your derivation in your report.\n",
    "\n",
    "To prove that your implementation is converging, keep the loss values at each gradient descent iteration in a numpy array. After the training is finalized, plot the loss values\n",
    "with respect to iteration count (Hint: `plt.plot`). You should observe a decreasing loss as the number of iterations increases. Also, experiment with 5 different learning rates between 0 and 1, and plot the convergence curves for each learning rate in the same plot to observe the effect of the learning rate (step size) on the convergence. \n",
    "\n",
    "To decide when to terminate the gradient descent iterations, check the absolute difference between the current loss value and the loss value of the previous step. If the difference is less than a small number, such as $10^{-5}$, you can exit the loop."
   ]
  },
  {
   "cell_type": "code",
   "execution_count": 6,
   "metadata": {
    "scrolled": true
   },
   "outputs": [
    {
     "name": "stdout",
     "output_type": "stream",
     "text": [
      "REPRESENTATION 1\n",
      "0\n",
      "accuracy for train data :  0.9525944907110826\n",
      "accuracy for test data :  0.910377358490566\n",
      "1\n",
      "accuracy for train data :  0.9679692504804612\n",
      "accuracy for test data :  0.9410377358490566\n",
      "2\n",
      "accuracy for train data :  0.9711723254324152\n",
      "accuracy for test data :  0.9410377358490566\n",
      "3\n",
      "accuracy for train data :  0.9711723254324152\n",
      "accuracy for test data :  0.9457547169811321\n",
      "4\n",
      "accuracy for train data :  0.9718129404228059\n",
      "accuracy for test data :  0.9481132075471698\n",
      "REPRESENTATION 2\n",
      "accuracy for train data :  0.9077514413837284\n",
      "accuracy for test data :  0.8962264150943396\n",
      "accuracy for train data :  0.9077514413837284\n",
      "accuracy for test data :  0.8962264150943396\n",
      "accuracy for train data :  0.9077514413837284\n",
      "accuracy for test data :  0.8962264150943396\n",
      "accuracy for train data :  0.9077514413837284\n",
      "accuracy for test data :  0.8962264150943396\n",
      "accuracy for train data :  0.9077514413837284\n",
      "accuracy for test data :  0.8962264150943396\n"
     ]
    },
    {
     "data": {
      "image/png": "[encoded data removed]",
      "text/plain": [
       "<Figure size 432x288 with 10 Axes>"
      ]
     },
     "metadata": {
      "needs_background": "light"
     },
     "output_type": "display_data"
    }
   ],
   "source": [
    "rep1_train_bestaccuracy = 0\n",
    "rep1_test_bestaccuracy = 0\n",
    "rep2_train_bestaccuracy = 0\n",
    "rep2_test_bestaccuracy = 0\n",
    "def create_features(feature1, feature2):\n",
    "    features = [1]*len(feature1)\n",
    "    for i in range(len(feature1)):\n",
    "        temp_list = [1]\n",
    "        temp_list.append(feature1)\n",
    "        temp_list.append(feature2)\n",
    "        features[i] = temp_list\n",
    "    return features\n",
    "    \n",
    "#features_train_rep1 = create_features(avgIntensityTrain, symmetryTrain)\n",
    "#print(features_train_rep1)\n",
    "\n",
    "features_train_rep1 = [1]*1561\n",
    "for i in range(len(avgIntensityTrain)):\n",
    "    liste = [1]\n",
    "    liste.append(avgIntensityTrain[i])\n",
    "    liste.append(symmetryTrain[i])\n",
    "    features_train_rep1[i]=liste\n",
    "    \n",
    "features_train_rep2 = [1]*1561\n",
    "for i in range(len(trainMYT)):\n",
    "    liste = [1]\n",
    "    liste.append(trainMYT[i])\n",
    "    liste.append(trainTYM[i]/100)\n",
    "    features_train_rep2[i]=liste\n",
    "    \n",
    "features_test = [1]*424\n",
    "for i in range(len(avgIntensityTest)):\n",
    "    liste = [1]\n",
    "    liste.append(avgIntensityTest[i])\n",
    "    liste.append(symmetryTest[i])\n",
    "    features_test[i]=liste\n",
    "    \n",
    "features_test_rep2 = [1]*424\n",
    "for i in range(len(testMYT)):\n",
    "    liste = [1]\n",
    "    liste.append(testMYT[i])\n",
    "    liste.append(testTYM[i]/100)\n",
    "    features_test_rep2[i]=liste\n",
    "    \n",
    "for n, i in enumerate(trainLabel):\n",
    "    if i == -1:\n",
    "        trainLabel[n] = 0\n",
    "        \n",
    "for n, i in enumerate(testLabel):\n",
    "    if i == -1:\n",
    "        testLabel[n] = 0\n",
    "    \n",
    "    \n",
    "\n",
    "class LogisticRegression:\n",
    "    def __init__(self, lr=0.01, num_iter=100000, theta = [0,0,0], cost_history = []):\n",
    "        self.lr = lr\n",
    "        self.num_iter = num_iter\n",
    "        self.theta = theta\n",
    "        self.cost_history = cost_history\n",
    "        \n",
    "    def __sigmoid(self, z):\n",
    "        return 1 / (1 + np.exp(-z))\n",
    "   \n",
    "    def predict(self, X):\n",
    "        return self.__sigmoid(np.dot(X, self.theta))\n",
    "    \n",
    "    def cost_function(self, theta, x, y):\n",
    "        observations = len(y)\n",
    "        predictions = self.predict(x)\n",
    "        class1_cost = -y*np.log(predictions)\n",
    "        \n",
    "        for n, i in enumerate(predictions):\n",
    "            if i == 1:\n",
    "                predictions[n] = 0\n",
    "                \n",
    "        class2_cost = (1-y)*np.log(1-predictions)\n",
    "        cost = class1_cost - class2_cost\n",
    "        cost = cost.sum() / observations\n",
    "        return cost\n",
    "\n",
    "    def classify(self, predictions):\n",
    "        labels = []\n",
    "        for prob in predictions:\n",
    "            if(prob >= .5):\n",
    "                lb=1\n",
    "            else:\n",
    "                lb=0\n",
    "            labels.append(lb)\n",
    "        return labels\n",
    "\n",
    "    def fit(self, X, y):\n",
    "        for i in range(self.num_iter):\n",
    "            z = np.dot(X, self.theta)\n",
    "            h = self.__sigmoid(z)\n",
    "            gradient = np.dot(np.transpose(X), (h - y)) / y.size\n",
    "            self.theta -= self.lr * gradient\n",
    "            z = np.dot(X, self.theta)\n",
    "            h = self.__sigmoid(z)\n",
    "            cost = self.cost_function(self.theta, X, y)\n",
    "            self.cost_history.append(cost)\n",
    "\n",
    "\n",
    "learning_rates = [0.05, 0.1, 0.15, 0.2, 0.25]\n",
    "print('REPRESENTATION 1')\n",
    "k = 1\n",
    "\n",
    "for lr in learning_rates :\n",
    "    print(learning_rates.index(lr))\n",
    "    model_rep1 = LogisticRegression(lr = lr, num_iter=1000, cost_history = [])\n",
    "    model_rep1.fit(features_train_rep1, trainLabel)\n",
    "    pred = model_rep1.predict(features_train_rep1)\n",
    "    classification = model_rep1.classify(pred)\n",
    "    errorIndexes = []\n",
    "    for i in range(len(trainLabel)):\n",
    "        if trainLabel[i] != classification[i]:\n",
    "            errorIndexes.append(i)\n",
    "    accuracy = 1 - (len(errorIndexes)/len(trainLabel))\n",
    "    print('accuracy for train data : ', accuracy)\n",
    "    \n",
    "    if accuracy > rep1_train_bestaccuracy:\n",
    "        rep1_train_bestaccuracy = accuracy\n",
    "        \n",
    "    plt.subplot(5, 2, k)\n",
    "    plt.plot(list(range(model_rep1.num_iter)),model_rep1.cost_history)\n",
    "    pred_test = model_rep1.predict(features_test)\n",
    "    classification_test = model_rep1.classify(pred_test)\n",
    "    errorIndexesTest = []\n",
    "    for i in range(len(testLabel)):\n",
    "        if testLabel[i] != classification_test[i]:\n",
    "            errorIndexesTest.append(i)\n",
    "    accuracy = 1 - (len(errorIndexesTest)/len(testLabel))\n",
    "    print('accuracy for test data : ', accuracy)\n",
    "    \n",
    "    if accuracy > rep1_test_bestaccuracy:\n",
    "        rep1_test_bestaccuracy = accuracy\n",
    "    k += 1\n",
    "    \n",
    "print('REPRESENTATION 2')\n",
    "for lr in learning_rates:\n",
    "    model_rep2 = LogisticRegression(lr = lr, num_iter=5500, theta = [-40,0,0], cost_history = [])\n",
    "    model_rep2.fit(features_train_rep2, trainLabel)\n",
    "    pred_rep2 = model_rep2.predict(features_train_rep2)\n",
    "    classification_rep2 = model_rep2.classify(pred_rep2)\n",
    "    errorIndexes_rep2 = []\n",
    "    for i in range(len(trainLabel)):\n",
    "        if trainLabel[i] != classification_rep2[i]:\n",
    "            errorIndexes_rep2.append(i)\n",
    "    accuracy = 1 - (len(errorIndexes_rep2)/len(trainLabel))\n",
    "    print('accuracy for train data : ', accuracy)\n",
    "    if accuracy > rep2_train_bestaccuracy:\n",
    "        rep2_train_bestaccuracy = accuracy\n",
    "    plt.subplot(5, 2, k)\n",
    "    plt.plot(list(range(model_rep2.num_iter)), model_rep2.cost_history )\n",
    "    pred_test_rep2 = model_rep2.predict(features_test_rep2)\n",
    "    classification_test_rep2 = model_rep2.classify(pred_test_rep2)\n",
    "    errorIndexesTest_rep2 = []\n",
    "    \n",
    "    for i in range(len(testLabel)):\n",
    "        if testLabel[i] != classification_test_rep2[i]:\n",
    "            errorIndexesTest_rep2.append(i)\n",
    "    k += 1\n",
    "    accuracy = 1 - (len(errorIndexesTest_rep2)/len(testLabel))\n",
    "    print('accuracy for test data : ', accuracy)\n",
    "    \n",
    "    if accuracy > rep2_test_bestaccuracy:\n",
    "        rep2_test_bestaccuracy = accuracy\n",
    "\n"
   ]
  },
  {
   "cell_type": "markdown",
   "metadata": {},
   "source": [
    "**(10 points)** Implement logistic regression with $\\ell_2$ norm regularization, $||\\mathbf{w}||_{2}^{2}$ . Show that your implementation is working by visualizing the loss over the iterations again. Visualization for a single learning rate and $\\lambda$ suffices. "
   ]
  },
  {
   "cell_type": "code",
   "execution_count": 27,
   "metadata": {},
   "outputs": [
    {
     "name": "stdout",
     "output_type": "stream",
     "text": [
      "accuracy for regu data :  0.643818065342729\n",
      "accuracy for regu data :  1.0\n"
     ]
    },
    {
     "data": {
      "image/png": "[encoded data removed]",
      "text/plain": [
       "<Figure size 432x288 with 1 Axes>"
      ]
     },
     "metadata": {
      "needs_background": "light"
     },
     "output_type": "display_data"
    }
   ],
   "source": [
    "class LogisticRegression_Regularization:\n",
    "    def __init__(self, lr=0.01, num_iter=100000, weights = [0,0,0], cost_history = [], lambd = 0.01, ):\n",
    "        self.lr = lr\n",
    "        self.num_iter = num_iter\n",
    "        self.weights = weights\n",
    "        self.lambd = lambd\n",
    "        self.cost_history = cost_history\n",
    "        \n",
    "    def __sigmoid(self, z):\n",
    "        return 1 / (1 + np.exp(-z))\n",
    "   \n",
    "    def predict(self, X):\n",
    "        return self.__sigmoid(np.dot(X, self.weights))\n",
    "    \n",
    "    def classify(self, predictions):\n",
    "        labels = []\n",
    "        for prob in predictions:\n",
    "            if(prob >= .5):\n",
    "                lb=1\n",
    "            else:\n",
    "                lb=0\n",
    "            labels.append(lb)\n",
    "        return labels\n",
    "    \n",
    "    def cost_function(self, theta, x, y):\n",
    "        observations = len(y)\n",
    "        predictions = self.predict(x)\n",
    "        class1_cost = -y*np.log(predictions)\n",
    "        \n",
    "        for n, i in enumerate(predictions):\n",
    "            if i == 1:\n",
    "                predictions[n] = 0\n",
    "                \n",
    "        class2_cost = (1-y)*np.log(1-predictions)\n",
    "        cost = class1_cost - class2_cost\n",
    "        cost = cost.sum() / observations\n",
    "        return cost\n",
    "\n",
    "    def update_weights_with_l2_regularization(self, featuress, targets, lr, lambd):\n",
    "     \n",
    "        predictions = self.predict(featuress)\n",
    "        featuress = np.array(featuress)\n",
    "        #Extract our features\n",
    "        self.x1 = featuress[:,0]\n",
    "        self.x2 = featuress[:,1]\n",
    "        self.x3 = featuress[:,2]\n",
    "\n",
    "        # Use matrix cross product (*) to simultaneously\n",
    "        # calculate the derivative for each weight\n",
    "        self.d_w1 = -self.x1*(targets - predictions)\n",
    "        self.d_w2 = -self.x2*(targets - predictions)\n",
    "        self.d_w3 = -self.x3*(targets - predictions)\n",
    "\n",
    "        # Multiply the mean derivative by the learning rate\n",
    "        # and subtract from our weights (remember gradient points in direction of steepest ASCENT)\n",
    "\n",
    "        self.weights[0] = self.weights[0] - lr * np.mean(self.d_w1) - 2 * lambd * self.weights[0]\n",
    "        self.weights[1] = self.weights[1] - lr * np.mean(self.d_w2) - 2 * lambd * self.weights[1]\n",
    "        self.weights[2] = self.weights[2] - lr * np.mean(self.d_w3) - 2 * lambd * self.weights[2]\n",
    "\n",
    "        return self.weights\n",
    "    \n",
    "    def train(self, featuress, labels):\n",
    "        for i in range(self.num_iter):\n",
    "            self.weights = self.update_weights_with_l2_regularization(featuress, labels, self.lr, self.lambd)\n",
    "            #Calculate error for auditing purposes\n",
    "            cost = self.cost_function(self.weights,featuress, labels)\n",
    "            self.cost_history.append(cost)\n",
    "\n",
    "        return self.weights \n",
    "    \n",
    "model_regularized = LogisticRegression_Regularization(lr = 0.05, num_iter=1000, cost_history = [], lambd=0.01)\n",
    "model_regularized.train(features_train_rep1, trainLabel)\n",
    "\n",
    "pred_train = model_regularized.predict(features_train_rep1)\n",
    "classification_train = model_regularized.classify(pred_train)\n",
    "errorIndexes = []\n",
    "\n",
    "for i in range(len(trainLabel)):\n",
    "    if trainLabel[i] != classification_train[i]:\n",
    "        errorIndexes.append(i)\n",
    "Regularization_train_accuracy = 1 - (len(errorIndexes)/len(trainLabel))\n",
    "print('accuracy for regu data : ', Regularization_train_accuracy)\n",
    "\n",
    "        \n",
    "plt.subplot(1, 1, 1)\n",
    "plt.plot(model_regularized.cost_history)\n",
    "errorIndexes = []\n",
    "\n",
    "\n",
    "pred_test = model_regularized.predict(features_test)\n",
    "classification_test = model_regularized.classify(pred_test)\n",
    "\n",
    "for i in range(len(testLabel)):\n",
    "        if testLabel[i] != classification_test[i]:\n",
    "            errorIndexes_reg.append(i)\n",
    "Regularization_test_accuracy = 1 - (len(errorIndexes)/len(testLabel))\n",
    "print('accuracy for regu data : ', Regularization_test_accuracy)\n",
    "    \n",
    "    \n"
   ]
  },
  {
   "cell_type": "markdown",
   "metadata": {},
   "source": [
    "**(10 points)** Implement a 5-fold cross validation procedure to find the optimal $\\lambda$ value for both Representation 1 and 2. Experiment with at least three different $\\lambda$ values between 0 and 1. Report the mean/std of cross validation accuracy of every representation/parameter combination as a table and clearly mark the best configuration in your report. "
   ]
  },
  {
   "cell_type": "code",
   "execution_count": 15,
   "metadata": {
    "scrolled": true
   },
   "outputs": [
    {
     "name": "stdout",
     "output_type": "stream",
     "text": [
      "accuracy for train data :  1.0\n",
      "accuracy for test data :  0.6226415094339622\n",
      "accuracy for train data :  1.0\n",
      "accuracy for test data :  0.6226415094339622\n",
      "accuracy for train data :  1.0\n",
      "accuracy for test data :  0.6226415094339622\n",
      "accuracy for train data :  0.0\n",
      "accuracy for test data :  0.37735849056603776\n",
      "accuracy for train data :  0.0\n",
      "accuracy for test data :  0.37735849056603776\n",
      "accuracy for train data :  1.0\n",
      "accuracy for test data :  0.6226415094339622\n",
      "accuracy for train data :  1.0\n",
      "accuracy for test data :  0.6226415094339622\n",
      "accuracy for train data :  1.0\n",
      "accuracy for test data :  0.6226415094339622\n",
      "accuracy for train data :  1.0\n",
      "accuracy for test data :  0.6226415094339622\n",
      "accuracy for train data :  1.0\n",
      "accuracy for test data :  0.6226415094339622\n"
     ]
    },
    {
     "data": {
      "image/png": "[encoded data removed]",
      "text/plain": [
       "<Figure size 432x288 with 10 Axes>"
      ]
     },
     "metadata": {
      "needs_background": "light"
     },
     "output_type": "display_data"
    }
   ],
   "source": [
    "rep1_train_Rbestaccuracy = 0\n",
    "rep1_test_Rbestaccuracy = 0\n",
    "rep2_train_Rbestaccuracy = 0\n",
    "rep2_test_Rbestaccuracy = 0\n",
    "lambdas = [0.005, 0.01, 0.05, 0.1, 0.2]\n",
    "model_regularizeds_rep1 = []\n",
    "model_regularizeds_rep2 = []\n",
    "for i in range(len(lambdas)): \n",
    "    \n",
    "    model_regularizeds_rep1.append(LogisticRegression_Regularization(lr = 0.1, num_iter=1000, cost_history = [], lambd=lambdas[i]))\n",
    "    model_regularizeds_rep1[i].train(features_train_rep1[312*(i):312*(i+1)], trainLabel[312*(i):312*(i+1)])\n",
    "    \n",
    "    plt.subplot(5, 2, i+1)\n",
    "    plt.plot(model_regularizeds_rep1[i].cost_history)\n",
    "    \n",
    "    pred_train = model_regularizeds_rep1[i].predict(features_train_rep1[312*(i):312*(i+1)])\n",
    "    classification_train = model_regularizeds_rep1[i].classify(pred_train)\n",
    "    errorIndexes = []\n",
    "    \n",
    "    pred_test = model_regularizeds_rep1[i].predict(features_test)\n",
    "    classification_test = model_regularizeds_rep1[i].classify(pred_test)\n",
    "    \n",
    "    for k in range(312):\n",
    "        if trainLabel[k] != classification_train[k]:\n",
    "            errorIndexes.append(k)\n",
    "    accuracy = 1 - (len(errorIndexes)/312)\n",
    "    print('accuracy for train data : ', accuracy)\n",
    "    if rep1_train_Rbestaccuracy < accuracy:\n",
    "        rep1_train_Rbestaccuracy = accuracy\n",
    "        \n",
    "    errorIndexes = []\n",
    "    \n",
    "    for k in range(len(testLabel)):\n",
    "        if testLabel[k] != classification_test[k]:\n",
    "            errorIndexes.append(k)\n",
    "    accuracy = 1 - (len(errorIndexes)/len(testLabel))\n",
    "    print('accuracy for test data : ', accuracy)\n",
    "    if rep1_test_Rbestaccuracy < accuracy:\n",
    "        rep1_test_Rbestaccuracy = accuracy\n",
    "   \n",
    "    \n",
    "    \n",
    "    \n",
    "for i in range(len(lambdas)): \n",
    "    \n",
    "    model_regularizeds_rep2.append(LogisticRegression_Regularization(lr = 0.1, num_iter=1000, cost_history = [], lambd=lambdas[i]))\n",
    "    model_regularizeds_rep2[i].train(features_train_rep2[312*(i):312*(i+1)], trainLabel[312*(i):312*(i+1)])\n",
    "    \n",
    "    plt.subplot(5, 2, i+6)\n",
    "    plt.plot(model_regularizeds_rep2[i].cost_history)   \n",
    "\n",
    "    pred_train = model_regularizeds_rep2[i].predict(features_train_rep2[312*(i):312*(i+1)])\n",
    "    classification_train = model_regularizeds_rep2[i].classify(pred)\n",
    "    errorIndexes = []\n",
    "    \n",
    "    pred_test = model_regularizeds_rep2[i].predict(features_test_rep2)\n",
    "    classification_test = model_regularizeds_rep2[i].classify(pred_test)\n",
    "    \n",
    "    for k in range(312):\n",
    "        if trainLabel[k] != classification_train[k]:\n",
    "            errorIndexes.append(k)\n",
    "    accuracy = 1 - (len(errorIndexes)/312)\n",
    "    print('accuracy for train data : ', accuracy) \n",
    "    errorIndexes = []\n",
    "    \n",
    "    for k in range(len(testLabel)):\n",
    "        if testLabel[k] != classification[k]:\n",
    "            errorIndexes.append(k)\n",
    "    accuracy = 1 - (len(errorIndexes)/len(testLabel))\n",
    "    print('accuracy for test data : ', accuracy)\n",
    "\n",
    "\n"
   ]
  },
  {
   "cell_type": "markdown",
   "metadata": {},
   "source": [
    "## Task 3: Evaluation (25 Pts)"
   ]
  },
  {
   "cell_type": "markdown",
   "metadata": {},
   "source": [
    "**(5 points)** Train the logistic regression classifier on Representation 1 and 2 with the best learning rate you decide. Similarly, train the regularized logistic regression classifier with the best $\\lambda$ you obtained by 5-fold cross validation. Report the training and test classification accuracy as \n",
    "\\begin{align*}\n",
    "\\frac{\\text{number of correctly classified samples}}{\\text{total number of samples}}x100\n",
    "\\end{align*}"
   ]
  },
  {
   "cell_type": "code",
   "execution_count": 16,
   "metadata": {},
   "outputs": [
    {
     "name": "stdout",
     "output_type": "stream",
     "text": [
      "0.9718129404228059\n",
      "0.9481132075471698\n",
      "0.9077514413837284\n",
      "0.8962264150943396\n"
     ]
    }
   ],
   "source": [
    "print(rep1_train_bestaccuracy)\n",
    "print(rep1_test_bestaccuracy)\n",
    "print(rep2_train_bestaccuracy)\n",
    "print(rep2_test_bestaccuracy)"
   ]
  },
  {
   "cell_type": "markdown",
   "metadata": {},
   "source": [
    "**(15 points)** Visualize the decision boundary (the line that is given by $\\mathbf{w}^{T}x=0$) obtained from the logistic regression classifier learned without regularization. For this purpose, use only Representation 1. Provide two scatter plots for training and test data points with the decision boundary shown on each of the plots."
   ]
  },
  {
   "cell_type": "code",
   "execution_count": null,
   "metadata": {},
   "outputs": [],
   "source": [
    "markers ={1 : 'o', 0 : 'x'}\n",
    "colors = {1 : 'blue', 0 : 'red'}\n",
    "\n",
    "\n",
    "decisionboundaryTest = []\n",
    "decisionboundaryTrain = []\n",
    "for i in range(len(avgIntensityTest)):\n",
    "    summ = (-model_rep1.theta[0]-model_rep1.theta[1]*avgIntensityTest[i])/model_rep1.theta[2]\n",
    "    decisionboundaryTest.append(summ)\n",
    "\n",
    "for i in range(len(avgIntensityTrain)):\n",
    "    summ = (-model_rep1.theta[0]-model_rep1.theta[1]*avgIntensityTrain[i])/model_rep1.theta[2]\n",
    "    decisionboundaryTrain.append(summ)    \n",
    "    \n",
    "features_train_rep1 = [1]*1561\n",
    "plt.subplot(2, 1, 1)\n",
    "print(model_rep1.theta)\n",
    "for i in range(len(testLabel)):\n",
    "    plt.plot(avgIntensityTest[i], symmetryTest[i], marker=markers[testLabel[i]], color=colors[testLabel[i]], markersize = 3)\n",
    "plt.plot(avgIntensityTest, decisionboundaryTest,color = 'yellow')   \n",
    "    \n",
    "plt.subplot(2, 1, 2)\n",
    "for i in range(len(trainLabel)):\n",
    "    plt.plot(avgIntensityTrain[i], symmetryTrain[i], marker=markers[trainLabel[i]], color=colors[trainLabel[i]], markersize = 3)\n",
    "plt.plot(avgIntensityTrain, decisionboundaryTrain,color = 'yellow')      "
   ]
  },
  {
   "cell_type": "markdown",
   "metadata": {},
   "source": [
    "**(5 points)** Comment on your work in your report. Include the answers for the following questions in your discussion. \n",
    "\n",
    "* Did regularization improve the generalization performance (did it help reducing the gap between training and test accuracies/errors)? Did you observe any difference between using Representation 1 and 2?\n",
    "* Which feature set did give the best results? Which one is more discriminative?\n",
    "* What would be your next step to improve test accuracy? "
   ]
  },
  {
   "cell_type": "markdown",
   "metadata": {},
   "source": [
    "* Hopefully, though we could not quite manage doing that.\n",
    "* Representation1 was more accurate compared to Representation2. Given 0.25 learning rate resulted the best.\n",
    "* Extracting more features could be a way to improve the accuracy of our model."
   ]
  },
  {
   "cell_type": "code",
   "execution_count": null,
   "metadata": {},
   "outputs": [],
   "source": []
  }
 ],
 "metadata": {
  "kernelspec": {
   "display_name": "Python 3",
   "language": "python",
   "name": "python3"
  },
  "language_info": {
   "codemirror_mode": {
    "name": "ipython",
    "version": 3
   },
   "file_extension": ".py",
   "mimetype": "text/x-python",
   "name": "python",
   "nbconvert_exporter": "python",
   "pygments_lexer": "ipython3",
   "version": "3.7.4"
  }
 },
 "nbformat": 4,
 "nbformat_minor": 2
}
